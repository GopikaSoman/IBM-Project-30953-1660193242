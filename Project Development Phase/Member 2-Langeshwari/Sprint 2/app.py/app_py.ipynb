{
  "nbformat": 4,
  "nbformat_minor": 0,
  "metadata": {
    "colab": {
      "provenance": []
    },
    "kernelspec": {
      "name": "python3",
      "display_name": "Python 3"
    },
    "language_info": {
      "name": "python"
    }
  },
  "cells": [
    {
      "cell_type": "code",
      "source": [
        "from flask import Flask, redirect, render_template, request\n",
        "\n",
        "app = Flask(_name_)\n",
        "\n",
        "@app.route('/', methods=['GET'])\n",
        "def index ():\n",
        "  #Home page\n",
        "  return render_template(\"index.html\")\n",
        "\n",
        "  @app.route('/predict', methods =['GET','POST'])\n",
        "  def upload ():\n",
        "    # logic yet to be build \n",
        "    if request.method == 'GET':\n",
        "      return (\"Here the logic is defined\")\n",
        "    if request.method == 'POST':\n",
        "      return (\"Here the logic is defined\")\n",
        "  if_name_ == '_main_':\n",
        "      app.run()"
      ],
      "metadata": {
        "id": "w7XZoitC0ORq"
      },
      "execution_count": null,
      "outputs": []
    }
  ]
}